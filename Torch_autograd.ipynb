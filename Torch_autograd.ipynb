{
  "nbformat": 4,
  "nbformat_minor": 0,
  "metadata": {
    "colab": {
      "provenance": [],
      "authorship_tag": "ABX9TyMYJtVWCqAdJ+BOlGgBbrd0",
      "include_colab_link": true
    },
    "kernelspec": {
      "name": "python3",
      "display_name": "Python 3"
    },
    "language_info": {
      "name": "python"
    }
  },
  "cells": [
    {
      "cell_type": "markdown",
      "metadata": {
        "id": "view-in-github",
        "colab_type": "text"
      },
      "source": [
        "<a href=\"https://colab.research.google.com/github/arctron/learn-pytorch/blob/main/Torch_autograd.ipynb\" target=\"_parent\"><img src=\"https://colab.research.google.com/assets/colab-badge.svg\" alt=\"Open In Colab\"/></a>"
      ]
    },
    {
      "cell_type": "markdown",
      "source": [
        "Following tutorial at https://pytorch.org/tutorials/beginner/blitz/autograd_tutorial.html"
      ],
      "metadata": {
        "id": "hvGCRhz6ZniJ"
      }
    },
    {
      "cell_type": "code",
      "execution_count": 2,
      "metadata": {
        "id": "hjHXvXLwORII"
      },
      "outputs": [],
      "source": [
        "import torch\n",
        "from torchvision.models import resnet18, ResNet18_Weights"
      ]
    },
    {
      "cell_type": "code",
      "source": [
        "model = resnet18(weights=ResNet18_Weights.DEFAULT)\n",
        "data = torch.rand(1, 3, 64, 64)\n",
        "labels = torch.rand(1, 1000)"
      ],
      "metadata": {
        "colab": {
          "base_uri": "https://localhost:8080/"
        },
        "id": "GPLk-O1_PPkO",
        "outputId": "98e044ae-dfef-4dc0-8905-3d114275fd9d"
      },
      "execution_count": 3,
      "outputs": [
        {
          "output_type": "stream",
          "name": "stderr",
          "text": [
            "Downloading: \"https://download.pytorch.org/models/resnet18-f37072fd.pth\" to /root/.cache/torch/hub/checkpoints/resnet18-f37072fd.pth\n",
            "100%|██████████| 44.7M/44.7M [00:00<00:00, 269MB/s]\n"
          ]
        }
      ]
    },
    {
      "cell_type": "code",
      "source": [
        "# forward pass\n",
        "prediction = model(data)"
      ],
      "metadata": {
        "id": "3EAN3lvEPpxa"
      },
      "execution_count": 7,
      "outputs": []
    },
    {
      "cell_type": "code",
      "source": [
        "# Calculate the error/loss\n",
        "print(prediction.shape, labels.shape)\n",
        "loss = (prediction - labels).sum()"
      ],
      "metadata": {
        "colab": {
          "base_uri": "https://localhost:8080/"
        },
        "id": "nJk-LhqtP4xi",
        "outputId": "e2334422-c952-4ad2-cba1-bad9df2a319d"
      },
      "execution_count": 9,
      "outputs": [
        {
          "output_type": "stream",
          "name": "stdout",
          "text": [
            "torch.Size([1, 1000]) torch.Size([1, 1000])\n"
          ]
        }
      ]
    },
    {
      "cell_type": "code",
      "source": [
        "# backward pass\n",
        "loss.backward()"
      ],
      "metadata": {
        "id": "zWycEbTZQgkl"
      },
      "execution_count": 10,
      "outputs": []
    },
    {
      "cell_type": "code",
      "source": [
        "# Gradient descent\n",
        "optim = torch.optim.SGD(model.parameters(), lr=0.01)\n",
        "optim.step() #Adjust each nn param by its gradient"
      ],
      "metadata": {
        "id": "y1FmcZxLQx8l"
      },
      "execution_count": 12,
      "outputs": []
    },
    {
      "cell_type": "code",
      "source": [
        "a = torch.rand((2,3), requires_grad = True)\n",
        "b = torch.rand((2,3), requires_grad = True)\n",
        "\n",
        "q = 3 * a ** 3 - b ** 2\n",
        "\n",
        "q.backward(gradient=torch.ones(2,3))\n",
        "\n",
        "print(torch.allclose(a.grad, 9 * a**2))\n",
        "print(torch.allclose(b.grad, -2 * b))"
      ],
      "metadata": {
        "colab": {
          "base_uri": "https://localhost:8080/"
        },
        "id": "8M6n2euLSf6m",
        "outputId": "40cb7b99-a60d-4477-8ff5-737fd9452720"
      },
      "execution_count": 46,
      "outputs": [
        {
          "output_type": "stream",
          "name": "stdout",
          "text": [
            "True\n",
            "True\n"
          ]
        }
      ]
    },
    {
      "cell_type": "code",
      "source": [
        "a = torch.rand((2,3), requires_grad = True)\n",
        "b = torch.rand((2,3), requires_grad = True)\n",
        "\n",
        "q = 3 * a ** 3 - b ** 2\n",
        "\n",
        "q.sum().backward()\n",
        "\n",
        "print(torch.allclose(a.grad, 9 * a**2))\n",
        "print(torch.allclose(b.grad, -2 * b))"
      ],
      "metadata": {
        "colab": {
          "base_uri": "https://localhost:8080/"
        },
        "id": "txLh5C7DZPJm",
        "outputId": "df1bdb31-c724-44cd-bc06-afe8d8f1bdea"
      },
      "execution_count": 47,
      "outputs": [
        {
          "output_type": "stream",
          "name": "stdout",
          "text": [
            "True\n",
            "True\n"
          ]
        }
      ]
    }
  ]
}