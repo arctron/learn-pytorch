{
  "nbformat": 4,
  "nbformat_minor": 0,
  "metadata": {
    "colab": {
      "provenance": [],
      "gpuType": "T4",
      "authorship_tag": "ABX9TyOBdM37EOHg1plQh5pvULiy",
      "include_colab_link": true
    },
    "kernelspec": {
      "name": "python3",
      "display_name": "Python 3"
    },
    "language_info": {
      "name": "python"
    },
    "accelerator": "GPU"
  },
  "cells": [
    {
      "cell_type": "markdown",
      "metadata": {
        "id": "view-in-github",
        "colab_type": "text"
      },
      "source": [
        "<a href=\"https://colab.research.google.com/github/arctron/learn-pytorch/blob/main/Learn_PyTorch.ipynb\" target=\"_parent\"><img src=\"https://colab.research.google.com/assets/colab-badge.svg\" alt=\"Open In Colab\"/></a>"
      ]
    },
    {
      "cell_type": "markdown",
      "source": [
        "Following the 60 min blitz tutorial at https://pytorch.org/tutorials/beginner/blitz/tensor_tutorial.html"
      ],
      "metadata": {
        "id": "sV0myoIlRKnl"
      }
    },
    {
      "cell_type": "code",
      "execution_count": 1,
      "metadata": {
        "id": "HBjesRsWQsaB"
      },
      "outputs": [],
      "source": [
        "import torch\n",
        "import numpy as np"
      ]
    },
    {
      "cell_type": "code",
      "source": [
        "data = [[1,2],[3,4]]\n",
        "x_data = torch.tensor(data)\n",
        "print(type(data))\n",
        "print(type(x_data))\n",
        "print(x_data.dtype)\n",
        "x_data"
      ],
      "metadata": {
        "colab": {
          "base_uri": "https://localhost:8080/"
        },
        "id": "4UzkatqOSA6g",
        "outputId": "a0c76239-d7ba-4841-8cb7-49415a347d01"
      },
      "execution_count": 2,
      "outputs": [
        {
          "output_type": "stream",
          "name": "stdout",
          "text": [
            "<class 'list'>\n",
            "<class 'torch.Tensor'>\n",
            "torch.int64\n"
          ]
        },
        {
          "output_type": "execute_result",
          "data": {
            "text/plain": [
              "tensor([[1, 2],\n",
              "        [3, 4]])"
            ]
          },
          "metadata": {},
          "execution_count": 2
        }
      ]
    },
    {
      "cell_type": "code",
      "source": [
        "np_data = np.array(data)\n",
        "x_np_data = torch.tensor(np_data)\n",
        "print(type(np_data))\n",
        "print(np_data.dtype)\n",
        "print(np_data)\n",
        "print(type(x_np_data))\n",
        "print(x_np_data.dtype)\n",
        "x_np_data"
      ],
      "metadata": {
        "colab": {
          "base_uri": "https://localhost:8080/"
        },
        "id": "Ry7ksUsYSRGM",
        "outputId": "a0fb6429-15eb-4ef9-c1f3-f9c7fbe05c67"
      },
      "execution_count": 3,
      "outputs": [
        {
          "output_type": "stream",
          "name": "stdout",
          "text": [
            "<class 'numpy.ndarray'>\n",
            "int64\n",
            "[[1 2]\n",
            " [3 4]]\n",
            "<class 'torch.Tensor'>\n",
            "torch.int64\n"
          ]
        },
        {
          "output_type": "execute_result",
          "data": {
            "text/plain": [
              "tensor([[1, 2],\n",
              "        [3, 4]])"
            ]
          },
          "metadata": {},
          "execution_count": 3
        }
      ]
    },
    {
      "cell_type": "code",
      "source": [
        "x_ones = torch.ones_like(x_data)\n",
        "print(x_ones.dtype, x_data.dtype)\n",
        "print(x_ones.shape, x_data.shape)\n",
        "print(x_ones)"
      ],
      "metadata": {
        "colab": {
          "base_uri": "https://localhost:8080/"
        },
        "id": "ghBW3jTpS7ww",
        "outputId": "da0c7cd5-14b6-4ec3-a492-09b76ee033d6"
      },
      "execution_count": 4,
      "outputs": [
        {
          "output_type": "stream",
          "name": "stdout",
          "text": [
            "torch.int64 torch.int64\n",
            "torch.Size([2, 2]) torch.Size([2, 2])\n",
            "tensor([[1, 1],\n",
            "        [1, 1]])\n"
          ]
        }
      ]
    },
    {
      "cell_type": "code",
      "source": [
        "x_rand = torch.rand_like(x_data, dtype=torch.float) # or torch.float32\n",
        "print(x_rand.dtype)\n",
        "print(x_rand)\n",
        "\n",
        "x_rand = torch.rand_like(x_data, dtype=torch.double) # or torch.float64\n",
        "print(x_rand.dtype)\n",
        "print(x_rand)"
      ],
      "metadata": {
        "colab": {
          "base_uri": "https://localhost:8080/"
        },
        "id": "CI_gaIwzToKp",
        "outputId": "73a5fecb-5209-405a-cde0-731172e06dff"
      },
      "execution_count": 5,
      "outputs": [
        {
          "output_type": "stream",
          "name": "stdout",
          "text": [
            "torch.float32\n",
            "tensor([[0.1852, 0.3954],\n",
            "        [0.1142, 0.0138]])\n",
            "torch.float64\n",
            "tensor([[0.8419, 0.8691],\n",
            "        [0.2019, 0.7582]], dtype=torch.float64)\n"
          ]
        }
      ]
    },
    {
      "cell_type": "code",
      "source": [
        "shape = (2,3,)\n",
        "x_zeros = torch.zeros(shape, dtype=torch.long) # torch.int64\n",
        "print(x_zeros.dtype, x_zeros.shape, x_zeros.device)\n",
        "print(x_zeros)"
      ],
      "metadata": {
        "colab": {
          "base_uri": "https://localhost:8080/"
        },
        "id": "2cVpbYqpT8XK",
        "outputId": "5f6e498d-bb35-48d6-bcb9-55190b22121f"
      },
      "execution_count": 6,
      "outputs": [
        {
          "output_type": "stream",
          "name": "stdout",
          "text": [
            "torch.int64 torch.Size([2, 3]) cpu\n",
            "tensor([[0, 0, 0],\n",
            "        [0, 0, 0]])\n"
          ]
        }
      ]
    },
    {
      "cell_type": "code",
      "source": [
        "if torch.cuda.is_available():\n",
        "  x_zeros = x_zeros.to('cuda')\n",
        "  print(x_zeros.device) #'should be cuda'"
      ],
      "metadata": {
        "colab": {
          "base_uri": "https://localhost:8080/"
        },
        "id": "-avCN0w5U22H",
        "outputId": "a2b16f9b-8b3d-4473-9c4d-764b561af2e4"
      },
      "execution_count": 7,
      "outputs": [
        {
          "output_type": "stream",
          "name": "stdout",
          "text": [
            "cuda:0\n"
          ]
        }
      ]
    },
    {
      "cell_type": "code",
      "source": [
        "tensor = torch.ones(4,4)\n",
        "print(tensor)"
      ],
      "metadata": {
        "colab": {
          "base_uri": "https://localhost:8080/"
        },
        "id": "M7O8ySpvWDdR",
        "outputId": "cebc7d74-2cab-4864-d1de-a0f2254728a8"
      },
      "execution_count": 8,
      "outputs": [
        {
          "output_type": "stream",
          "name": "stdout",
          "text": [
            "tensor([[1., 1., 1., 1.],\n",
            "        [1., 1., 1., 1.],\n",
            "        [1., 1., 1., 1.],\n",
            "        [1., 1., 1., 1.]])\n"
          ]
        }
      ]
    },
    {
      "cell_type": "code",
      "source": [
        "tensor[:,1] = 0\n",
        "print(tensor)"
      ],
      "metadata": {
        "colab": {
          "base_uri": "https://localhost:8080/"
        },
        "id": "PVVYs4iSWNBf",
        "outputId": "6d0692c2-508c-43c0-f83b-2252315ccf57"
      },
      "execution_count": 9,
      "outputs": [
        {
          "output_type": "stream",
          "name": "stdout",
          "text": [
            "tensor([[1., 0., 1., 1.],\n",
            "        [1., 0., 1., 1.],\n",
            "        [1., 0., 1., 1.],\n",
            "        [1., 0., 1., 1.]])\n"
          ]
        }
      ]
    },
    {
      "cell_type": "code",
      "source": [
        "t1 = torch.cat([tensor, tensor, tensor], dim=0) # concat row wise\n",
        "print(t1.shape)\n",
        "print(t1)\n",
        "\n",
        "t1 = torch.cat([tensor, tensor, tensor], dim=1) # concat column wise\n",
        "print(t1.shape)\n",
        "print(t1)"
      ],
      "metadata": {
        "colab": {
          "base_uri": "https://localhost:8080/"
        },
        "id": "3IxFhWAwWje7",
        "outputId": "b6497de3-c4aa-485f-eb2e-9a731e2451ab"
      },
      "execution_count": 10,
      "outputs": [
        {
          "output_type": "stream",
          "name": "stdout",
          "text": [
            "torch.Size([12, 4])\n",
            "tensor([[1., 0., 1., 1.],\n",
            "        [1., 0., 1., 1.],\n",
            "        [1., 0., 1., 1.],\n",
            "        [1., 0., 1., 1.],\n",
            "        [1., 0., 1., 1.],\n",
            "        [1., 0., 1., 1.],\n",
            "        [1., 0., 1., 1.],\n",
            "        [1., 0., 1., 1.],\n",
            "        [1., 0., 1., 1.],\n",
            "        [1., 0., 1., 1.],\n",
            "        [1., 0., 1., 1.],\n",
            "        [1., 0., 1., 1.]])\n",
            "torch.Size([4, 12])\n",
            "tensor([[1., 0., 1., 1., 1., 0., 1., 1., 1., 0., 1., 1.],\n",
            "        [1., 0., 1., 1., 1., 0., 1., 1., 1., 0., 1., 1.],\n",
            "        [1., 0., 1., 1., 1., 0., 1., 1., 1., 0., 1., 1.],\n",
            "        [1., 0., 1., 1., 1., 0., 1., 1., 1., 0., 1., 1.]])\n"
          ]
        }
      ]
    },
    {
      "cell_type": "code",
      "source": [
        "t1 = torch.rand((2,3))\n",
        "t2 = torch.rand((2,3))\n",
        "\n",
        "# Element wise multiplication\n",
        "print(t1.mul(t2))\n",
        "print(t1 * t2)"
      ],
      "metadata": {
        "colab": {
          "base_uri": "https://localhost:8080/"
        },
        "id": "SXHwpGGXzRJy",
        "outputId": "2e92d853-4033-4fd4-cb67-2a453b0498d3"
      },
      "execution_count": 11,
      "outputs": [
        {
          "output_type": "stream",
          "name": "stdout",
          "text": [
            "tensor([[4.8973e-02, 3.2673e-01, 2.3784e-01],\n",
            "        [4.6950e-04, 6.4221e-02, 5.8784e-01]])\n",
            "tensor([[4.8973e-02, 3.2673e-01, 2.3784e-01],\n",
            "        [4.6950e-04, 6.4221e-02, 5.8784e-01]])\n"
          ]
        }
      ]
    },
    {
      "cell_type": "code",
      "source": [
        "t1 = torch.rand((2,3))\n",
        "t2 = torch.rand((3,5))\n",
        "\n",
        "# Matrix multiplication\n",
        "print(t1.matmul(t2))\n",
        "print(t1 @ t2)"
      ],
      "metadata": {
        "colab": {
          "base_uri": "https://localhost:8080/"
        },
        "id": "xm7f2yL00PsR",
        "outputId": "8071512c-b1d3-4c08-e3be-f27650bc6fed"
      },
      "execution_count": 12,
      "outputs": [
        {
          "output_type": "stream",
          "name": "stdout",
          "text": [
            "tensor([[1.3076, 1.3485, 1.6356, 0.9428, 0.4589],\n",
            "        [0.9358, 0.9676, 1.2364, 0.5598, 0.2770]])\n",
            "tensor([[1.3076, 1.3485, 1.6356, 0.9428, 0.4589],\n",
            "        [0.9358, 0.9676, 1.2364, 0.5598, 0.2770]])\n"
          ]
        }
      ]
    },
    {
      "cell_type": "code",
      "source": [
        "print(t1)\n",
        "t1.add_(5) # in place op\n",
        "print(t1)"
      ],
      "metadata": {
        "colab": {
          "base_uri": "https://localhost:8080/"
        },
        "id": "eNoLBdVM0omf",
        "outputId": "24b12670-291b-4cf5-a1a3-6c1f6db8b89c"
      },
      "execution_count": 13,
      "outputs": [
        {
          "output_type": "stream",
          "name": "stdout",
          "text": [
            "tensor([[0.5734, 0.6241, 0.9249],\n",
            "        [0.1650, 0.5559, 0.9025]])\n",
            "tensor([[5.5734, 5.6241, 5.9249],\n",
            "        [5.1650, 5.5559, 5.9025]])\n"
          ]
        }
      ]
    },
    {
      "cell_type": "code",
      "source": [
        "t = torch.ones(5)\n",
        "n = t.numpy() # shares same underlying mem on cpu\n",
        "print(t)\n",
        "print(n)\n",
        "\n",
        "t.add_(4)\n",
        "\n",
        "print(t)\n",
        "print(n)"
      ],
      "metadata": {
        "colab": {
          "base_uri": "https://localhost:8080/"
        },
        "id": "M08uc2pL1A9G",
        "outputId": "84ed7723-2faf-44b5-c554-7cb55c4aeb6e"
      },
      "execution_count": 14,
      "outputs": [
        {
          "output_type": "stream",
          "name": "stdout",
          "text": [
            "tensor([1., 1., 1., 1., 1.])\n",
            "[1. 1. 1. 1. 1.]\n",
            "tensor([5., 5., 5., 5., 5.])\n",
            "[5. 5. 5. 5. 5.]\n"
          ]
        }
      ]
    },
    {
      "cell_type": "code",
      "source": [
        "n = np.ones(7)\n",
        "t = torch.from_numpy(n) # shares same underlying mem on cpu\n",
        "\n",
        "print(n)\n",
        "print(t)\n",
        "\n",
        "np.add(n, 4, out=n)\n",
        "\n",
        "print(n)\n",
        "print(t)"
      ],
      "metadata": {
        "colab": {
          "base_uri": "https://localhost:8080/"
        },
        "id": "M0FjDojQ1u55",
        "outputId": "01a6349f-144f-4f69-f42c-c553840b0641"
      },
      "execution_count": 15,
      "outputs": [
        {
          "output_type": "stream",
          "name": "stdout",
          "text": [
            "[1. 1. 1. 1. 1. 1. 1.]\n",
            "tensor([1., 1., 1., 1., 1., 1., 1.], dtype=torch.float64)\n",
            "[5. 5. 5. 5. 5. 5. 5.]\n",
            "tensor([5., 5., 5., 5., 5., 5., 5.], dtype=torch.float64)\n"
          ]
        }
      ]
    }
  ]
}