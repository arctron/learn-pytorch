{
  "nbformat": 4,
  "nbformat_minor": 0,
  "metadata": {
    "colab": {
      "provenance": [],
      "authorship_tag": "ABX9TyMILqzBZ95KoFb53dy5KSiy",
      "include_colab_link": true
    },
    "kernelspec": {
      "name": "python3",
      "display_name": "Python 3"
    },
    "language_info": {
      "name": "python"
    }
  },
  "cells": [
    {
      "cell_type": "markdown",
      "metadata": {
        "id": "view-in-github",
        "colab_type": "text"
      },
      "source": [
        "<a href=\"https://colab.research.google.com/github/arctron/learn-pytorch/blob/main/PyTorch_fundamentals.ipynb\" target=\"_parent\"><img src=\"https://colab.research.google.com/assets/colab-badge.svg\" alt=\"Open In Colab\"/></a>"
      ]
    },
    {
      "cell_type": "markdown",
      "source": [
        "Following tutorial at https://www.learnpytorch.io/00_pytorch_fundamentals/"
      ],
      "metadata": {
        "id": "Dg7Bx3Dx9auM"
      }
    },
    {
      "cell_type": "code",
      "execution_count": 1,
      "metadata": {
        "colab": {
          "base_uri": "https://localhost:8080/",
          "height": 35
        },
        "id": "tIw5Rwmnkl68",
        "outputId": "6c64c1cb-10e9-4bd0-fb90-1e8b370e6f75"
      },
      "outputs": [
        {
          "output_type": "execute_result",
          "data": {
            "text/plain": [
              "'2.0.1+cu118'"
            ],
            "application/vnd.google.colaboratory.intrinsic+json": {
              "type": "string"
            }
          },
          "metadata": {},
          "execution_count": 1
        }
      ],
      "source": [
        "import torch\n",
        "torch.__version__"
      ]
    },
    {
      "cell_type": "code",
      "source": [
        "scalar = torch.tensor(7)\n",
        "print(scalar)\n",
        "print(scalar.shape)\n",
        "print(scalar.dtype)\n",
        "print(scalar.ndim)\n",
        "print(scalar.item())"
      ],
      "metadata": {
        "colab": {
          "base_uri": "https://localhost:8080/"
        },
        "id": "Q_ZBhyalkyt5",
        "outputId": "c960797b-c34e-44bf-8639-c23a2e216aed"
      },
      "execution_count": 2,
      "outputs": [
        {
          "output_type": "stream",
          "name": "stdout",
          "text": [
            "tensor(7)\n",
            "torch.Size([])\n",
            "torch.int64\n",
            "0\n",
            "7\n"
          ]
        }
      ]
    },
    {
      "cell_type": "code",
      "source": [
        "vector = torch.tensor([7,7])\n",
        "print(vector)\n",
        "print(vector.ndim)\n",
        "print(vector.shape)"
      ],
      "metadata": {
        "colab": {
          "base_uri": "https://localhost:8080/"
        },
        "id": "0_FSp68AloZs",
        "outputId": "b8d58a5c-1276-4bae-d7e5-79384288b13d"
      },
      "execution_count": 3,
      "outputs": [
        {
          "output_type": "stream",
          "name": "stdout",
          "text": [
            "tensor([7, 7])\n",
            "1\n",
            "torch.Size([2])\n"
          ]
        }
      ]
    },
    {
      "cell_type": "code",
      "source": [
        "MATRIX = torch.tensor([[1,2], [3,4]])\n",
        "print(MATRIX)\n",
        "print(MATRIX.ndim)\n",
        "print(MATRIX.shape)"
      ],
      "metadata": {
        "colab": {
          "base_uri": "https://localhost:8080/"
        },
        "id": "suGrRqVPmF27",
        "outputId": "bcf406d1-e41b-4bc0-bc2a-ae8bf977e797"
      },
      "execution_count": 4,
      "outputs": [
        {
          "output_type": "stream",
          "name": "stdout",
          "text": [
            "tensor([[1, 2],\n",
            "        [3, 4]])\n",
            "2\n",
            "torch.Size([2, 2])\n"
          ]
        }
      ]
    },
    {
      "cell_type": "code",
      "source": [
        "TENSOR = torch.tensor([[[1,2], [3,4]]])\n",
        "print(TENSOR)\n",
        "print(TENSOR.ndim)\n",
        "print(TENSOR.shape)"
      ],
      "metadata": {
        "colab": {
          "base_uri": "https://localhost:8080/"
        },
        "id": "Nc5Q1fBkmTZ4",
        "outputId": "f0957b97-cbd5-4609-f314-891bc76e5c48"
      },
      "execution_count": 5,
      "outputs": [
        {
          "output_type": "stream",
          "name": "stdout",
          "text": [
            "tensor([[[1, 2],\n",
            "         [3, 4]]])\n",
            "3\n",
            "torch.Size([1, 2, 2])\n"
          ]
        }
      ]
    },
    {
      "cell_type": "code",
      "source": [
        "print(torch.rand(2,3))\n",
        "print(torch.zeros(2,3))\n",
        "print(torch.ones(2,3))"
      ],
      "metadata": {
        "colab": {
          "base_uri": "https://localhost:8080/"
        },
        "id": "Db3NR93HnyRn",
        "outputId": "a34db504-768c-4937-bc06-995ad1d9fae2"
      },
      "execution_count": 6,
      "outputs": [
        {
          "output_type": "stream",
          "name": "stdout",
          "text": [
            "tensor([[0.6120, 0.1577, 0.9027],\n",
            "        [0.5306, 0.6089, 0.6547]])\n",
            "tensor([[0., 0., 0.],\n",
            "        [0., 0., 0.]])\n",
            "tensor([[1., 1., 1.],\n",
            "        [1., 1., 1.]])\n"
          ]
        }
      ]
    },
    {
      "cell_type": "code",
      "source": [
        "t1 = torch.arange(0, 10, 1)\n",
        "print(t1)\n",
        "print(t1.shape, t1.ndim, t1.dtype)\n",
        "print(torch.zeros_like(t1))\n",
        "print(torch.ones_like(t1))"
      ],
      "metadata": {
        "colab": {
          "base_uri": "https://localhost:8080/"
        },
        "id": "o1pxYL8BoLNr",
        "outputId": "2df88627-f42f-42e9-9f14-1ee5be4ac068"
      },
      "execution_count": 7,
      "outputs": [
        {
          "output_type": "stream",
          "name": "stdout",
          "text": [
            "tensor([0, 1, 2, 3, 4, 5, 6, 7, 8, 9])\n",
            "torch.Size([10]) 1 torch.int64\n",
            "tensor([0, 0, 0, 0, 0, 0, 0, 0, 0, 0])\n",
            "tensor([1, 1, 1, 1, 1, 1, 1, 1, 1, 1])\n"
          ]
        }
      ]
    },
    {
      "cell_type": "code",
      "source": [
        "t2 = torch.tensor([1,2,3])\n",
        "print(t2 + 10)\n",
        "print(t2 - 10)\n",
        "print(t2 * 10)\n",
        "print(t2 / 10)\n",
        "print(t2 ** 2)\n",
        "print(-t2)\n",
        "print(t2)"
      ],
      "metadata": {
        "colab": {
          "base_uri": "https://localhost:8080/"
        },
        "id": "NG7DX_-5qN3W",
        "outputId": "fe47584f-4584-4f08-d74e-62bec8998e51"
      },
      "execution_count": 8,
      "outputs": [
        {
          "output_type": "stream",
          "name": "stdout",
          "text": [
            "tensor([11, 12, 13])\n",
            "tensor([-9, -8, -7])\n",
            "tensor([10, 20, 30])\n",
            "tensor([0.1000, 0.2000, 0.3000])\n",
            "tensor([1, 4, 9])\n",
            "tensor([-1, -2, -3])\n",
            "tensor([1, 2, 3])\n"
          ]
        }
      ]
    },
    {
      "cell_type": "code",
      "source": [
        "t1 = torch.rand(2,3)\n",
        "t2 = torch.rand(2,3)\n",
        "\n",
        "t1 @ t2.T"
      ],
      "metadata": {
        "colab": {
          "base_uri": "https://localhost:8080/"
        },
        "id": "KGgzZ-Joqguz",
        "outputId": "d0a2d9c6-5780-4322-952b-ee4431870e73"
      },
      "execution_count": 9,
      "outputs": [
        {
          "output_type": "execute_result",
          "data": {
            "text/plain": [
              "tensor([[0.7202, 1.1864],\n",
              "        [0.7813, 0.8216]])"
            ]
          },
          "metadata": {},
          "execution_count": 9
        }
      ]
    },
    {
      "cell_type": "code",
      "source": [
        "torch.manual_seed(42)\n",
        "m = torch.nn.Linear(2, 6)\n",
        "print(m)\n",
        "print(m.weight.shape, m.bias.shape)\n",
        "x = torch.rand(3, 2)\n",
        "out = m(x)\n",
        "print(out)\n",
        "print(out.shape)\n",
        "\n",
        "print(x @ m.weight.T + m.bias)\n",
        "print(torch.equal(out, x @ m.weight.T + m.bias))"
      ],
      "metadata": {
        "colab": {
          "base_uri": "https://localhost:8080/"
        },
        "id": "ajEhDCkx07i8",
        "outputId": "9d4111cd-b15e-41be-cf31-4d1a35b8bde3"
      },
      "execution_count": 10,
      "outputs": [
        {
          "output_type": "stream",
          "name": "stdout",
          "text": [
            "Linear(in_features=2, out_features=6, bias=True)\n",
            "torch.Size([6, 2]) torch.Size([6])\n",
            "tensor([[ 1.0348,  0.4592,  0.3892,  0.0690,  0.3858,  0.3514],\n",
            "        [ 0.9272,  0.3378,  0.3622, -0.0094,  0.4842,  0.3286],\n",
            "        [ 1.1711,  0.5868,  0.4136,  0.1433,  0.2987,  0.3971]],\n",
            "       grad_fn=<AddmmBackward0>)\n",
            "torch.Size([3, 6])\n",
            "tensor([[ 1.0348,  0.4592,  0.3892,  0.0690,  0.3858,  0.3514],\n",
            "        [ 0.9272,  0.3378,  0.3622, -0.0094,  0.4842,  0.3286],\n",
            "        [ 1.1711,  0.5868,  0.4136,  0.1433,  0.2987,  0.3971]],\n",
            "       grad_fn=<AddBackward0>)\n",
            "True\n"
          ]
        }
      ]
    },
    {
      "cell_type": "code",
      "source": [
        "# Aggregation\n",
        "x = torch.arange(0, 100, 10).type(torch.float)\n",
        "print(x)\n",
        "print(x.dtype, x.shape, x.device)\n",
        "print(f'{x.min()=}')\n",
        "print(f'{x.max()=}')\n",
        "print(f'{x.type(torch.float).mean()=}')\n",
        "print(f'{x.sum()=}')"
      ],
      "metadata": {
        "colab": {
          "base_uri": "https://localhost:8080/"
        },
        "id": "oPCa96vnhGCm",
        "outputId": "f7a9dd2f-73cb-4a84-aaf9-61d2b722abd2"
      },
      "execution_count": 11,
      "outputs": [
        {
          "output_type": "stream",
          "name": "stdout",
          "text": [
            "tensor([ 0., 10., 20., 30., 40., 50., 60., 70., 80., 90.])\n",
            "torch.float32 torch.Size([10]) cpu\n",
            "x.min()=tensor(0.)\n",
            "x.max()=tensor(90.)\n",
            "x.type(torch.float).mean()=tensor(45.)\n",
            "x.sum()=tensor(450.)\n"
          ]
        }
      ]
    },
    {
      "cell_type": "code",
      "source": [
        "# Position of min/max\n",
        "x = torch.tensor([1,2,3,0,2,1,0,3])\n",
        "print(x)\n",
        "print(f'Found min value {x.min()} at index {x.argmin()}')\n",
        "print(f'Found max value {x.max()} at index {x.argmax()}')"
      ],
      "metadata": {
        "colab": {
          "base_uri": "https://localhost:8080/"
        },
        "id": "HpyXOPKJiC0H",
        "outputId": "f80d0f0b-790f-4831-eaf6-e5895c044fba"
      },
      "execution_count": 12,
      "outputs": [
        {
          "output_type": "stream",
          "name": "stdout",
          "text": [
            "tensor([1, 2, 3, 0, 2, 1, 0, 3])\n",
            "Found min value 0 at index 3\n",
            "Found max value 3 at index 2\n"
          ]
        }
      ]
    }
  ]
}